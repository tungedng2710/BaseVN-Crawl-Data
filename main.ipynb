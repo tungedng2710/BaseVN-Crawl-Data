{
  "cells": [
    {
      "cell_type": "markdown",
      "metadata": {
        "id": "pQcmztXqRewu"
      },
      "source": [
        "# Code lấy dữ liệu từ BaseVN"
      ]
    },
    {
      "cell_type": "markdown",
      "metadata": {
        "id": "AuLdpOK5RoRd"
      },
      "source": [
        "## 1. Kết nối notebook với Google Drive\n",
        "Bước này có thể bỏ qua nếu không muốn lưu vào Drive. Tuy nhiên các output files sẽ mất sau khi restart session"
      ]
    },
    {
      "cell_type": "code",
      "execution_count": null,
      "metadata": {
        "colab": {
          "base_uri": "https://localhost:8080/"
        },
        "id": "Fk6AYRX4QPB4",
        "outputId": "6b21186a-ebe5-4ea5-aa41-256840490792"
      },
      "outputs": [],
      "source": [
        "\"\"\"\n",
        "Chạy đoạn code dưới đây để kết nối notebook với Google Drive\n",
        "\"\"\"\n",
        "from google.colab import drive\n",
        "drive.mount('/content/drive')"
      ]
    },
    {
      "cell_type": "markdown",
      "metadata": {
        "id": "XmY8xqfTR4gi"
      },
      "source": [
        "## 2. Gửi request và lấy dữ liệu form"
      ]
    },
    {
      "cell_type": "code",
      "execution_count": null,
      "metadata": {
        "colab": {
          "base_uri": "https://localhost:8080/"
        },
        "id": "bElcVwHrYbqT",
        "outputId": "0dc7a302-aefa-444d-ec39-d093d22d0ccc"
      },
      "outputs": [],
      "source": [
        "import requests\n",
        "import pandas as pd\n",
        "import os\n",
        "import json\n",
        "from tqdm import tqdm\n",
        "import numpy as np\n",
        "\n",
        "def get_data(url: str = \"https://workflow.base.vn/extapi/v1/workflow/jobs\",\n",
        "             payload: dict = {}):\n",
        "\n",
        "    headers = {\n",
        "        \"Content-Type\": \"application/x-www-form-urlencoded\"\n",
        "    }\n",
        "\n",
        "    response = requests.post(url, data=payload, headers=headers)\n",
        "    print(\"Status code:\", response.status_code)\n",
        "    try:\n",
        "        return response.json()\n",
        "    except ValueError:\n",
        "        return {}\n",
        "\n",
        "\n",
        "if __name__ == \"__main__\":\n",
        "    access_token = \"ADD YOUR TOKEN HERE\"\n",
        "    output_folder_path = \"/content/drive/MyDrive/outputs\" # Thay output path bằng folder chứa file kết quả\n",
        "\n",
        "    # Sửa đổi payload các trường cần lấy data theo format {\"key1\": \"value1\", \"key2\": \"value2\", ...}\n",
        "    payload = {\n",
        "        \"access_token\": f\"{access_token}\",\n",
        "        \"id\": \"13080\",\n",
        "        \"created_from\": \"8/3/2025\",\n",
        "        \"created_to\": \"8/4/2025\"\n",
        "    }\n",
        "    # --------------------------------------------------------- #\n",
        "    data = get_data(payload=payload)\n",
        "    if not os.path.exists(output_folder_path):\n",
        "        os.makedirs(output_folder_path)\n",
        "\n",
        "    full_values = []\n",
        "    max_length_headers = []\n",
        "    full_data = []\n",
        "    for job in tqdm(data[\"jobs\"]):\n",
        "        form = job[\"form_origin\"]\n",
        "        headers, values = [], []\n",
        "        form_dict = {}\n",
        "        for item in form:\n",
        "            # print(item)\n",
        "            name = item['name']\n",
        "            value = item['value']\n",
        "            form_dict[name] = value\n",
        "            headers.append(name)\n",
        "            # values.append(value)\n",
        "        if len(headers) > len(max_length_headers):\n",
        "            max_length_headers = headers.copy()\n",
        "\n",
        "        full_data.append(form_dict)\n",
        "        full_values.append(values)\n",
        "    \n",
        "\n",
        "    all_keys = set()\n",
        "    for sample in full_data:\n",
        "        all_keys.update(sample.keys())\n",
        "\n",
        "    df = pd.DataFrame(full_data, columns=max_length_headers)\n",
        "    df.fillna('', inplace=True)\n",
        "    # --------------------------------------------------------- #\n",
        "\n",
        "    # full_output.xlsx là tên file cần lưu\n",
        "    output_file_name = input(\"Output filename: \") or \"full_output.xlsx\"\n",
        "    if not \".xlsx\" in output_file_name:\n",
        "        output_file_name += \".xlsx\"\n",
        "    df.to_excel(f'{output_folder_path}/{output_file_name}', index=False)\n",
        "\n",
        "    print(f\"\\nOutput file is saved at {output_folder_path}/{output_file_name}\")"
      ]
    }
  ],
  "metadata": {
    "colab": {
      "provenance": []
    },
    "kernelspec": {
      "display_name": "Python 3",
      "name": "python3"
    },
    "language_info": {
      "name": "python"
    }
  },
  "nbformat": 4,
  "nbformat_minor": 0
}
