{
  "nbformat": 4,
  "nbformat_minor": 0,
  "metadata": {
    "colab": {
      "provenance": []
    },
    "kernelspec": {
      "name": "python3",
      "display_name": "Python 3"
    },
    "language_info": {
      "name": "python"
    }
  },
  "cells": [
    {
      "cell_type": "markdown",
      "source": [
        "# Code lấy dữ liệu từ BaseVN"
      ],
      "metadata": {
        "id": "pQcmztXqRewu"
      }
    },
    {
      "cell_type": "markdown",
      "source": [
        "## 1. Kết nối notebook với Google Drive\n",
        "Bước này có thể bỏ qua nếu không muốn lưu vào Drive. Tuy nhiên các output files sẽ mất sau khi restart session"
      ],
      "metadata": {
        "id": "AuLdpOK5RoRd"
      }
    },
    {
      "cell_type": "code",
      "source": [
        "\"\"\"\n",
        "Chạy đoạn code dưới đây để kết nối notebook với Google Drive\n",
        "\"\"\"\n",
        "from google.colab import drive\n",
        "drive.mount('/content/drive')"
      ],
      "metadata": {
        "colab": {
          "base_uri": "https://localhost:8080/"
        },
        "id": "Fk6AYRX4QPB4",
        "outputId": "6b21186a-ebe5-4ea5-aa41-256840490792"
      },
      "execution_count": 2,
      "outputs": [
        {
          "output_type": "stream",
          "name": "stdout",
          "text": [
            "Mounted at /content/drive\n"
          ]
        }
      ]
    },
    {
      "cell_type": "markdown",
      "source": [
        "## 2. Gửi request và lấy dữ liệu form"
      ],
      "metadata": {
        "id": "XmY8xqfTR4gi"
      }
    },
    {
      "cell_type": "code",
      "source": [
        "import requests\n",
        "import pandas as pd\n",
        "import os\n",
        "import json\n",
        "from tqdm import tqdm\n",
        "import numpy as np\n",
        "\n",
        "def get_data(url: str = \"https://workflow.base.vn/extapi/v1/workflow/jobs\",\n",
        "             payload: dict = {}):\n",
        "\n",
        "    headers = {\n",
        "        \"Content-Type\": \"application/x-www-form-urlencoded\"\n",
        "    }\n",
        "\n",
        "    response = requests.post(url, data=payload, headers=headers)\n",
        "    print(\"Status code:\", response.status_code)\n",
        "    try:\n",
        "        return response.json()\n",
        "    except ValueError:\n",
        "        return {}\n",
        "\n",
        "\n",
        "if __name__ == \"__main__\":\n",
        "    access_token = \"ADD YOUR TOKEN HERE\"\n",
        "    output_folder_path = \"/content/drive/MyDrive/outputs\" # Thay output path bằng folder chứa file kết quả\n",
        "\n",
        "    # Sửa đổi payload các trường cần lấy data theo format {\"key1\": \"value1\", \"key2\": \"value2\", ...}\n",
        "    payload = {\n",
        "        \"access_token\": f\"{access_token}\",\n",
        "        \"id\": \"13080\",\n",
        "        \"created_from\": \"8/4/2025\",\n",
        "        \"created_to\": \"8/4/2025\"\n",
        "    }\n",
        "    data = get_data(payload=payload)\n",
        "    if not os.path.exists(output_folder_path):\n",
        "        os.makedirs(output_folder_path)\n",
        "\n",
        "    full_values = []\n",
        "    for idx, job in tqdm(enumerate(data[\"jobs\"])):\n",
        "        form = job[\"form_origin\"]\n",
        "        headers, values = [], []\n",
        "        for item in form:\n",
        "            # print(item)\n",
        "            name = item['name']\n",
        "            value = item['value']\n",
        "            headers.append(name)\n",
        "            values.append(value)\n",
        "        full_values.append(values)\n",
        "        print(len(headers))\n",
        "    df = pd.DataFrame(full_values, columns=headers)\n",
        "\n",
        "    # full_output.xlsx là tên file cần lưu\n",
        "    df.to_excel(f'{output_folder_path}/full_output.xlsx', index=False)"
      ],
      "metadata": {
        "id": "bElcVwHrYbqT",
        "colab": {
          "base_uri": "https://localhost:8080/"
        },
        "outputId": "0dc7a302-aefa-444d-ec39-d093d22d0ccc"
      },
      "execution_count": 5,
      "outputs": [
        {
          "output_type": "stream",
          "name": "stdout",
          "text": [
            "Status code: 200\n"
          ]
        },
        {
          "output_type": "stream",
          "name": "stderr",
          "text": [
            "3it [00:00, 5456.60it/s]"
          ]
        },
        {
          "output_type": "stream",
          "name": "stdout",
          "text": [
            "45\n",
            "45\n",
            "45\n"
          ]
        },
        {
          "output_type": "stream",
          "name": "stderr",
          "text": [
            "\n"
          ]
        }
      ]
    }
  ]
}